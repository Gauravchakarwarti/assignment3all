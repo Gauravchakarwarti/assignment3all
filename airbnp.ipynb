{
 "cells": [
  {
   "cell_type": "code",
   "execution_count": 34,
   "id": "b47f7a2e-61c2-47e6-ae95-db2816d5beb7",
   "metadata": {
    "scrolled": true
   },
   "outputs": [
    {
     "data": {
      "text/html": [
       "<div>\n",
       "<style scoped>\n",
       "    .dataframe tbody tr th:only-of-type {\n",
       "        vertical-align: middle;\n",
       "    }\n",
       "\n",
       "    .dataframe tbody tr th {\n",
       "        vertical-align: top;\n",
       "    }\n",
       "\n",
       "    .dataframe thead th {\n",
       "        text-align: right;\n",
       "    }\n",
       "</style>\n",
       "<table border=\"1\" class=\"dataframe\">\n",
       "  <thead>\n",
       "    <tr style=\"text-align: right;\">\n",
       "      <th></th>\n",
       "      <th>id</th>\n",
       "      <th>name</th>\n",
       "      <th>host_id</th>\n",
       "      <th>host_name</th>\n",
       "      <th>neighbourhood_group</th>\n",
       "      <th>neighbourhood</th>\n",
       "      <th>latitude</th>\n",
       "      <th>longitude</th>\n",
       "      <th>room_type</th>\n",
       "      <th>minimum_nights</th>\n",
       "      <th>number_of_reviews</th>\n",
       "      <th>last_review</th>\n",
       "      <th>reviews_per_month</th>\n",
       "      <th>calculated_host_listings_count</th>\n",
       "      <th>availability_365</th>\n",
       "      <th>price</th>\n",
       "    </tr>\n",
       "  </thead>\n",
       "  <tbody>\n",
       "    <tr>\n",
       "      <th>0</th>\n",
       "      <td>11602914</td>\n",
       "      <td>Luxury home 100m2+garden in center!</td>\n",
       "      <td>3123809</td>\n",
       "      <td>Marjolein</td>\n",
       "      <td>NaN</td>\n",
       "      <td>De Pijp - Rivierenbuurt</td>\n",
       "      <td>52.35368</td>\n",
       "      <td>4.90177</td>\n",
       "      <td>Entire home/apt</td>\n",
       "      <td>3</td>\n",
       "      <td>13</td>\n",
       "      <td>15-02-2020</td>\n",
       "      <td>0.27</td>\n",
       "      <td>1</td>\n",
       "      <td>0</td>\n",
       "      <td>220</td>\n",
       "    </tr>\n",
       "    <tr>\n",
       "      <th>1</th>\n",
       "      <td>13289321</td>\n",
       "      <td>East is where your home is!</td>\n",
       "      <td>10259430</td>\n",
       "      <td>Ana</td>\n",
       "      <td>NaN</td>\n",
       "      <td>Oud-Oost</td>\n",
       "      <td>52.35728</td>\n",
       "      <td>4.92052</td>\n",
       "      <td>Entire home/apt</td>\n",
       "      <td>4</td>\n",
       "      <td>14</td>\n",
       "      <td>19-06-2019</td>\n",
       "      <td>0.29</td>\n",
       "      <td>1</td>\n",
       "      <td>0</td>\n",
       "      <td>110</td>\n",
       "    </tr>\n",
       "    <tr>\n",
       "      <th>2</th>\n",
       "      <td>40779315</td>\n",
       "      <td>Amsterdam Central - LUXURY house in BUSY STREET</td>\n",
       "      <td>224969266</td>\n",
       "      <td>Mark</td>\n",
       "      <td>NaN</td>\n",
       "      <td>Centrum-West</td>\n",
       "      <td>52.37582</td>\n",
       "      <td>4.89850</td>\n",
       "      <td>Entire home/apt</td>\n",
       "      <td>2</td>\n",
       "      <td>9</td>\n",
       "      <td>16-03-2020</td>\n",
       "      <td>1.65</td>\n",
       "      <td>1</td>\n",
       "      <td>7</td>\n",
       "      <td>100</td>\n",
       "    </tr>\n",
       "    <tr>\n",
       "      <th>3</th>\n",
       "      <td>7820311</td>\n",
       "      <td>great appartment down town</td>\n",
       "      <td>693472</td>\n",
       "      <td>Ayden</td>\n",
       "      <td>NaN</td>\n",
       "      <td>Westerpark</td>\n",
       "      <td>52.37792</td>\n",
       "      <td>4.87300</td>\n",
       "      <td>Entire home/apt</td>\n",
       "      <td>3</td>\n",
       "      <td>42</td>\n",
       "      <td>17-02-2020</td>\n",
       "      <td>0.72</td>\n",
       "      <td>1</td>\n",
       "      <td>0</td>\n",
       "      <td>130</td>\n",
       "    </tr>\n",
       "    <tr>\n",
       "      <th>4</th>\n",
       "      <td>27346603</td>\n",
       "      <td>Private room with canal view in peaceful area</td>\n",
       "      <td>41888346</td>\n",
       "      <td>Alissa</td>\n",
       "      <td>NaN</td>\n",
       "      <td>Westerpark</td>\n",
       "      <td>52.38051</td>\n",
       "      <td>4.87493</td>\n",
       "      <td>Private room</td>\n",
       "      <td>2</td>\n",
       "      <td>89</td>\n",
       "      <td>26-02-2020</td>\n",
       "      <td>4.02</td>\n",
       "      <td>1</td>\n",
       "      <td>24</td>\n",
       "      <td>90</td>\n",
       "    </tr>\n",
       "  </tbody>\n",
       "</table>\n",
       "</div>"
      ],
      "text/plain": [
       "         id                                             name    host_id  \\\n",
       "0  11602914              Luxury home 100m2+garden in center!    3123809   \n",
       "1  13289321                      East is where your home is!   10259430   \n",
       "2  40779315  Amsterdam Central - LUXURY house in BUSY STREET  224969266   \n",
       "3   7820311                       great appartment down town     693472   \n",
       "4  27346603    Private room with canal view in peaceful area   41888346   \n",
       "\n",
       "   host_name  neighbourhood_group            neighbourhood  latitude  \\\n",
       "0  Marjolein                  NaN  De Pijp - Rivierenbuurt  52.35368   \n",
       "1        Ana                  NaN                 Oud-Oost  52.35728   \n",
       "2       Mark                  NaN             Centrum-West  52.37582   \n",
       "3      Ayden                  NaN               Westerpark  52.37792   \n",
       "4     Alissa                  NaN               Westerpark  52.38051   \n",
       "\n",
       "   longitude        room_type  minimum_nights  number_of_reviews last_review  \\\n",
       "0    4.90177  Entire home/apt               3                 13  15-02-2020   \n",
       "1    4.92052  Entire home/apt               4                 14  19-06-2019   \n",
       "2    4.89850  Entire home/apt               2                  9  16-03-2020   \n",
       "3    4.87300  Entire home/apt               3                 42  17-02-2020   \n",
       "4    4.87493     Private room               2                 89  26-02-2020   \n",
       "\n",
       "   reviews_per_month  calculated_host_listings_count  availability_365  price  \n",
       "0               0.27                               1                 0    220  \n",
       "1               0.29                               1                 0    110  \n",
       "2               1.65                               1                 7    100  \n",
       "3               0.72                               1                 0    130  \n",
       "4               4.02                               1                24     90  "
      ]
     },
     "execution_count": 34,
     "metadata": {},
     "output_type": "execute_result"
    }
   ],
   "source": [
    "import pandas as pd\n",
    "import numpy as np\n",
    "import seaborn as sns\n",
    "import warnings\n",
    "warnings.filterwarnings('ignore')\n",
    "import matplotlib.pyplot as plt\n",
    "\n",
    "\n",
    "data =pd.read_csv(r\"C:\\Users\\Administrator\\Downloads\\airbnb_listing_train.csv\\airbnb_listing_train.csv\")\n",
    "data.head()\n"
   ]
  },
  {
   "cell_type": "code",
   "execution_count": 35,
   "id": "311f2b43-b323-46d2-bf2a-1a1a16200f1a",
   "metadata": {},
   "outputs": [
    {
     "data": {
      "text/plain": [
       "(12901, 16)"
      ]
     },
     "execution_count": 35,
     "metadata": {},
     "output_type": "execute_result"
    }
   ],
   "source": [
    "data.shape"
   ]
  },
  {
   "cell_type": "code",
   "execution_count": 36,
   "id": "96c135b6-604e-404a-9d8f-04cd02ee1b66",
   "metadata": {},
   "outputs": [
    {
     "data": {
      "text/plain": [
       "Index(['id', 'name', 'host_id', 'host_name', 'neighbourhood_group',\n",
       "       'neighbourhood', 'latitude', 'longitude', 'room_type', 'minimum_nights',\n",
       "       'number_of_reviews', 'last_review', 'reviews_per_month',\n",
       "       'calculated_host_listings_count', 'availability_365', 'price'],\n",
       "      dtype='object')"
      ]
     },
     "execution_count": 36,
     "metadata": {},
     "output_type": "execute_result"
    }
   ],
   "source": [
    "data.columns"
   ]
  },
  {
   "cell_type": "code",
   "execution_count": 37,
   "id": "c965c96c-b985-4132-95eb-674d5757d989",
   "metadata": {},
   "outputs": [
    {
     "data": {
      "text/plain": [
       "id                                    0\n",
       "name                                 22\n",
       "host_id                               0\n",
       "host_name                             8\n",
       "neighbourhood_group               12901\n",
       "neighbourhood                         0\n",
       "latitude                              0\n",
       "longitude                             0\n",
       "room_type                             0\n",
       "minimum_nights                        0\n",
       "number_of_reviews                     0\n",
       "last_review                        1596\n",
       "reviews_per_month                  1596\n",
       "calculated_host_listings_count        0\n",
       "availability_365                      0\n",
       "price                                 0\n",
       "dtype: int64"
      ]
     },
     "execution_count": 37,
     "metadata": {},
     "output_type": "execute_result"
    }
   ],
   "source": [
    "data.isnull().sum()"
   ]
  },
  {
   "cell_type": "code",
   "execution_count": 38,
   "id": "a8906715-fec4-4cd6-b8ea-ca24694d1073",
   "metadata": {},
   "outputs": [
    {
     "data": {
      "text/plain": [
       "id                                  0.000000\n",
       "name                                0.170529\n",
       "host_id                             0.000000\n",
       "host_name                           0.062011\n",
       "neighbourhood_group               100.000000\n",
       "neighbourhood                       0.000000\n",
       "latitude                            0.000000\n",
       "longitude                           0.000000\n",
       "room_type                           0.000000\n",
       "minimum_nights                      0.000000\n",
       "number_of_reviews                   0.000000\n",
       "last_review                        12.371134\n",
       "reviews_per_month                  12.371134\n",
       "calculated_host_listings_count      0.000000\n",
       "availability_365                    0.000000\n",
       "price                               0.000000\n",
       "dtype: float64"
      ]
     },
     "execution_count": 38,
     "metadata": {},
     "output_type": "execute_result"
    }
   ],
   "source": [
    "data.isnull().sum()/ len(data) * 100"
   ]
  },
  {
   "cell_type": "code",
   "execution_count": 39,
   "id": "1b7a8b6e-fb56-473a-aae4-2d322dccbade",
   "metadata": {},
   "outputs": [
    {
     "data": {
      "text/plain": [
       "0       NaN\n",
       "1       NaN\n",
       "2       NaN\n",
       "3       NaN\n",
       "4       NaN\n",
       "         ..\n",
       "12896   NaN\n",
       "12897   NaN\n",
       "12898   NaN\n",
       "12899   NaN\n",
       "12900   NaN\n",
       "Name: neighbourhood_group, Length: 12901, dtype: float64"
      ]
     },
     "execution_count": 39,
     "metadata": {},
     "output_type": "execute_result"
    }
   ],
   "source": [
    "data['neighbourhood_group']"
   ]
  },
  {
   "cell_type": "code",
   "execution_count": 7,
   "id": "90b4e5fc-e854-4efc-b0ea-587f57a86216",
   "metadata": {},
   "outputs": [
    {
     "data": {
      "text/html": [
       "<div>\n",
       "<style scoped>\n",
       "    .dataframe tbody tr th:only-of-type {\n",
       "        vertical-align: middle;\n",
       "    }\n",
       "\n",
       "    .dataframe tbody tr th {\n",
       "        vertical-align: top;\n",
       "    }\n",
       "\n",
       "    .dataframe thead th {\n",
       "        text-align: right;\n",
       "    }\n",
       "</style>\n",
       "<table border=\"1\" class=\"dataframe\">\n",
       "  <thead>\n",
       "    <tr style=\"text-align: right;\">\n",
       "      <th></th>\n",
       "      <th>id</th>\n",
       "      <th>name</th>\n",
       "      <th>host_id</th>\n",
       "      <th>host_name</th>\n",
       "      <th>neighbourhood</th>\n",
       "      <th>latitude</th>\n",
       "      <th>longitude</th>\n",
       "      <th>room_type</th>\n",
       "      <th>minimum_nights</th>\n",
       "      <th>number_of_reviews</th>\n",
       "      <th>last_review</th>\n",
       "      <th>reviews_per_month</th>\n",
       "      <th>calculated_host_listings_count</th>\n",
       "      <th>availability_365</th>\n",
       "      <th>price</th>\n",
       "    </tr>\n",
       "  </thead>\n",
       "  <tbody>\n",
       "    <tr>\n",
       "      <th>0</th>\n",
       "      <td>11602914</td>\n",
       "      <td>Luxury home 100m2+garden in center!</td>\n",
       "      <td>3123809</td>\n",
       "      <td>Marjolein</td>\n",
       "      <td>De Pijp - Rivierenbuurt</td>\n",
       "      <td>52.35368</td>\n",
       "      <td>4.90177</td>\n",
       "      <td>Entire home/apt</td>\n",
       "      <td>3</td>\n",
       "      <td>13</td>\n",
       "      <td>15-02-2020</td>\n",
       "      <td>0.27</td>\n",
       "      <td>1</td>\n",
       "      <td>0</td>\n",
       "      <td>220</td>\n",
       "    </tr>\n",
       "    <tr>\n",
       "      <th>1</th>\n",
       "      <td>13289321</td>\n",
       "      <td>East is where your home is!</td>\n",
       "      <td>10259430</td>\n",
       "      <td>Ana</td>\n",
       "      <td>Oud-Oost</td>\n",
       "      <td>52.35728</td>\n",
       "      <td>4.92052</td>\n",
       "      <td>Entire home/apt</td>\n",
       "      <td>4</td>\n",
       "      <td>14</td>\n",
       "      <td>19-06-2019</td>\n",
       "      <td>0.29</td>\n",
       "      <td>1</td>\n",
       "      <td>0</td>\n",
       "      <td>110</td>\n",
       "    </tr>\n",
       "    <tr>\n",
       "      <th>2</th>\n",
       "      <td>40779315</td>\n",
       "      <td>Amsterdam Central - LUXURY house in BUSY STREET</td>\n",
       "      <td>224969266</td>\n",
       "      <td>Mark</td>\n",
       "      <td>Centrum-West</td>\n",
       "      <td>52.37582</td>\n",
       "      <td>4.89850</td>\n",
       "      <td>Entire home/apt</td>\n",
       "      <td>2</td>\n",
       "      <td>9</td>\n",
       "      <td>16-03-2020</td>\n",
       "      <td>1.65</td>\n",
       "      <td>1</td>\n",
       "      <td>7</td>\n",
       "      <td>100</td>\n",
       "    </tr>\n",
       "    <tr>\n",
       "      <th>3</th>\n",
       "      <td>7820311</td>\n",
       "      <td>great appartment down town</td>\n",
       "      <td>693472</td>\n",
       "      <td>Ayden</td>\n",
       "      <td>Westerpark</td>\n",
       "      <td>52.37792</td>\n",
       "      <td>4.87300</td>\n",
       "      <td>Entire home/apt</td>\n",
       "      <td>3</td>\n",
       "      <td>42</td>\n",
       "      <td>17-02-2020</td>\n",
       "      <td>0.72</td>\n",
       "      <td>1</td>\n",
       "      <td>0</td>\n",
       "      <td>130</td>\n",
       "    </tr>\n",
       "    <tr>\n",
       "      <th>4</th>\n",
       "      <td>27346603</td>\n",
       "      <td>Private room with canal view in peaceful area</td>\n",
       "      <td>41888346</td>\n",
       "      <td>Alissa</td>\n",
       "      <td>Westerpark</td>\n",
       "      <td>52.38051</td>\n",
       "      <td>4.87493</td>\n",
       "      <td>Private room</td>\n",
       "      <td>2</td>\n",
       "      <td>89</td>\n",
       "      <td>26-02-2020</td>\n",
       "      <td>4.02</td>\n",
       "      <td>1</td>\n",
       "      <td>24</td>\n",
       "      <td>90</td>\n",
       "    </tr>\n",
       "    <tr>\n",
       "      <th>...</th>\n",
       "      <td>...</td>\n",
       "      <td>...</td>\n",
       "      <td>...</td>\n",
       "      <td>...</td>\n",
       "      <td>...</td>\n",
       "      <td>...</td>\n",
       "      <td>...</td>\n",
       "      <td>...</td>\n",
       "      <td>...</td>\n",
       "      <td>...</td>\n",
       "      <td>...</td>\n",
       "      <td>...</td>\n",
       "      <td>...</td>\n",
       "      <td>...</td>\n",
       "      <td>...</td>\n",
       "    </tr>\n",
       "    <tr>\n",
       "      <th>12896</th>\n",
       "      <td>20757739</td>\n",
       "      <td>Quiet stylish private room 15 mins to city  ce...</td>\n",
       "      <td>63932037</td>\n",
       "      <td>Michelle</td>\n",
       "      <td>De Baarsjes - Oud-West</td>\n",
       "      <td>52.37194</td>\n",
       "      <td>4.84965</td>\n",
       "      <td>Entire home/apt</td>\n",
       "      <td>1</td>\n",
       "      <td>1</td>\n",
       "      <td>13-09-2017</td>\n",
       "      <td>0.03</td>\n",
       "      <td>1</td>\n",
       "      <td>88</td>\n",
       "      <td>65</td>\n",
       "    </tr>\n",
       "    <tr>\n",
       "      <th>12897</th>\n",
       "      <td>1055570</td>\n",
       "      <td>Beautiful, spacious apt. with great views @ IJ...</td>\n",
       "      <td>5813322</td>\n",
       "      <td>Rens</td>\n",
       "      <td>IJburg - Zeeburgereiland</td>\n",
       "      <td>52.36263</td>\n",
       "      <td>4.98031</td>\n",
       "      <td>Entire home/apt</td>\n",
       "      <td>7</td>\n",
       "      <td>238</td>\n",
       "      <td>25-02-2020</td>\n",
       "      <td>2.75</td>\n",
       "      <td>1</td>\n",
       "      <td>357</td>\n",
       "      <td>160</td>\n",
       "    </tr>\n",
       "    <tr>\n",
       "      <th>12898</th>\n",
       "      <td>13178435</td>\n",
       "      <td>Great apartment de Pijp/Albert Cuyp</td>\n",
       "      <td>46370427</td>\n",
       "      <td>Francien</td>\n",
       "      <td>De Pijp - Rivierenbuurt</td>\n",
       "      <td>52.35719</td>\n",
       "      <td>4.90009</td>\n",
       "      <td>Entire home/apt</td>\n",
       "      <td>3</td>\n",
       "      <td>15</td>\n",
       "      <td>07-10-2018</td>\n",
       "      <td>0.31</td>\n",
       "      <td>1</td>\n",
       "      <td>0</td>\n",
       "      <td>180</td>\n",
       "    </tr>\n",
       "    <tr>\n",
       "      <th>12899</th>\n",
       "      <td>21963760</td>\n",
       "      <td>Stylish apartment in an amazing location</td>\n",
       "      <td>4895882</td>\n",
       "      <td>Olaf</td>\n",
       "      <td>Zuid</td>\n",
       "      <td>52.34855</td>\n",
       "      <td>4.85105</td>\n",
       "      <td>Entire home/apt</td>\n",
       "      <td>2</td>\n",
       "      <td>11</td>\n",
       "      <td>28-04-2019</td>\n",
       "      <td>0.37</td>\n",
       "      <td>1</td>\n",
       "      <td>0</td>\n",
       "      <td>136</td>\n",
       "    </tr>\n",
       "    <tr>\n",
       "      <th>12900</th>\n",
       "      <td>33726315</td>\n",
       "      <td>Amsterdam Apartments First Floor</td>\n",
       "      <td>203460948</td>\n",
       "      <td>City</td>\n",
       "      <td>Centrum-Oost</td>\n",
       "      <td>52.35865</td>\n",
       "      <td>4.89795</td>\n",
       "      <td>Hotel room</td>\n",
       "      <td>5</td>\n",
       "      <td>1</td>\n",
       "      <td>17-02-2020</td>\n",
       "      <td>0.26</td>\n",
       "      <td>11</td>\n",
       "      <td>365</td>\n",
       "      <td>337</td>\n",
       "    </tr>\n",
       "  </tbody>\n",
       "</table>\n",
       "<p>12901 rows × 15 columns</p>\n",
       "</div>"
      ],
      "text/plain": [
       "             id                                               name    host_id  \\\n",
       "0      11602914                Luxury home 100m2+garden in center!    3123809   \n",
       "1      13289321                        East is where your home is!   10259430   \n",
       "2      40779315    Amsterdam Central - LUXURY house in BUSY STREET  224969266   \n",
       "3       7820311                         great appartment down town     693472   \n",
       "4      27346603      Private room with canal view in peaceful area   41888346   \n",
       "...         ...                                                ...        ...   \n",
       "12896  20757739  Quiet stylish private room 15 mins to city  ce...   63932037   \n",
       "12897   1055570  Beautiful, spacious apt. with great views @ IJ...    5813322   \n",
       "12898  13178435                Great apartment de Pijp/Albert Cuyp   46370427   \n",
       "12899  21963760           Stylish apartment in an amazing location    4895882   \n",
       "12900  33726315                   Amsterdam Apartments First Floor  203460948   \n",
       "\n",
       "       host_name             neighbourhood  latitude  longitude  \\\n",
       "0      Marjolein   De Pijp - Rivierenbuurt  52.35368    4.90177   \n",
       "1            Ana                  Oud-Oost  52.35728    4.92052   \n",
       "2           Mark              Centrum-West  52.37582    4.89850   \n",
       "3          Ayden                Westerpark  52.37792    4.87300   \n",
       "4         Alissa                Westerpark  52.38051    4.87493   \n",
       "...          ...                       ...       ...        ...   \n",
       "12896   Michelle    De Baarsjes - Oud-West  52.37194    4.84965   \n",
       "12897       Rens  IJburg - Zeeburgereiland  52.36263    4.98031   \n",
       "12898   Francien   De Pijp - Rivierenbuurt  52.35719    4.90009   \n",
       "12899       Olaf                      Zuid  52.34855    4.85105   \n",
       "12900       City              Centrum-Oost  52.35865    4.89795   \n",
       "\n",
       "             room_type  minimum_nights  number_of_reviews last_review  \\\n",
       "0      Entire home/apt               3                 13  15-02-2020   \n",
       "1      Entire home/apt               4                 14  19-06-2019   \n",
       "2      Entire home/apt               2                  9  16-03-2020   \n",
       "3      Entire home/apt               3                 42  17-02-2020   \n",
       "4         Private room               2                 89  26-02-2020   \n",
       "...                ...             ...                ...         ...   \n",
       "12896  Entire home/apt               1                  1  13-09-2017   \n",
       "12897  Entire home/apt               7                238  25-02-2020   \n",
       "12898  Entire home/apt               3                 15  07-10-2018   \n",
       "12899  Entire home/apt               2                 11  28-04-2019   \n",
       "12900       Hotel room               5                  1  17-02-2020   \n",
       "\n",
       "       reviews_per_month  calculated_host_listings_count  availability_365  \\\n",
       "0                   0.27                               1                 0   \n",
       "1                   0.29                               1                 0   \n",
       "2                   1.65                               1                 7   \n",
       "3                   0.72                               1                 0   \n",
       "4                   4.02                               1                24   \n",
       "...                  ...                             ...               ...   \n",
       "12896               0.03                               1                88   \n",
       "12897               2.75                               1               357   \n",
       "12898               0.31                               1                 0   \n",
       "12899               0.37                               1                 0   \n",
       "12900               0.26                              11               365   \n",
       "\n",
       "       price  \n",
       "0        220  \n",
       "1        110  \n",
       "2        100  \n",
       "3        130  \n",
       "4         90  \n",
       "...      ...  \n",
       "12896     65  \n",
       "12897    160  \n",
       "12898    180  \n",
       "12899    136  \n",
       "12900    337  \n",
       "\n",
       "[12901 rows x 15 columns]"
      ]
     },
     "execution_count": 7,
     "metadata": {},
     "output_type": "execute_result"
    }
   ],
   "source": [
    "data.drop(['neighbourhood_group'], axis=1)\n"
   ]
  },
  {
   "cell_type": "code",
   "execution_count": 40,
   "id": "d58d0c12-1a72-4a43-9b56-a7dca368dae5",
   "metadata": {},
   "outputs": [],
   "source": [
    "data.drop(['name','host_name','neighbourhood_group'], axis=1, inplace =True)"
   ]
  },
  {
   "cell_type": "code",
   "execution_count": 41,
   "id": "bd76fc5a-7c88-490e-a15e-d94cc15bda6f",
   "metadata": {},
   "outputs": [],
   "source": [
    "data.drop(['last_review','reviews_per_month'], axis=1, inplace =True)"
   ]
  },
  {
   "cell_type": "code",
   "execution_count": 43,
   "id": "8e5f2508-4200-46db-914f-6aa9624602a7",
   "metadata": {},
   "outputs": [],
   "source": [
    "data['neighbourhood'] =data['neighbourhood'].astype('category')"
   ]
  },
  {
   "cell_type": "code",
   "execution_count": 44,
   "id": "a9a0be4f-ce17-41c5-bddc-a33ecca2c7dc",
   "metadata": {},
   "outputs": [],
   "source": [
    "data['neighbourhood'] = data['neighbourhood'].cat.codes"
   ]
  },
  {
   "cell_type": "code",
   "execution_count": 12,
   "id": "3130be67-1e7a-429a-98e6-ab265228b2ba",
   "metadata": {},
   "outputs": [
    {
     "data": {
      "text/plain": [
       "neighbourhood\n",
       "7     2209\n",
       "8     1600\n",
       "5     1429\n",
       "4     1097\n",
       "20     958\n",
       "21     924\n",
       "17     831\n",
       "2      730\n",
       "14     644\n",
       "19     381\n",
       "16     376\n",
       "11     321\n",
       "18     269\n",
       "13     257\n",
       "12     171\n",
       "3      155\n",
       "10     144\n",
       "6       88\n",
       "15      83\n",
       "9       80\n",
       "0       78\n",
       "1       76\n",
       "Name: count, dtype: int64"
      ]
     },
     "execution_count": 12,
     "metadata": {},
     "output_type": "execute_result"
    }
   ],
   "source": [
    "data['neighbourhood'].value_counts()"
   ]
  },
  {
   "cell_type": "code",
   "execution_count": 45,
   "id": "ac5f2365-11c3-45da-a700-09e75fb61abf",
   "metadata": {},
   "outputs": [
    {
     "data": {
      "text/plain": [
       "room_type\n",
       "Entire home/apt    10064\n",
       "Private room        2622\n",
       "Hotel room           174\n",
       "Shared room           41\n",
       "Name: count, dtype: int64"
      ]
     },
     "execution_count": 45,
     "metadata": {},
     "output_type": "execute_result"
    }
   ],
   "source": [
    "data['room_type'].value_counts()"
   ]
  },
  {
   "cell_type": "code",
   "execution_count": 46,
   "id": "338f98f9-96ef-468e-b5a2-fe291f3a6918",
   "metadata": {},
   "outputs": [],
   "source": [
    "data = pd.get_dummies(data, columns=['room_type'])"
   ]
  },
  {
   "cell_type": "code",
   "execution_count": 47,
   "id": "85a305a4-d1c8-4623-a4b2-86fabf1a43be",
   "metadata": {},
   "outputs": [],
   "source": [
    "\n",
    "lon,lat = map(np.radians, [data['longitude'], data['latitude']])\n",
    "\n",
    "\n",
    "a = np.sin(lat/2)**2 + np.cos(lat) * np.sin(lon/2)**2\n",
    "distance = 2 * R * np.arcsin(np.sqrt(a))\n",
    "\n",
    "\n",
    "data['distance'] = distance\n",
    "data.drop(['latitude', 'longitude'], axis = 1, inplace = True)"
   ]
  },
  {
   "cell_type": "code",
   "execution_count": 48,
   "id": "1f4c5c4f-933a-4cec-bf41-f8b6a9152f37",
   "metadata": {},
   "outputs": [
    {
     "data": {
      "text/plain": [
       "Index(['id', 'host_id', 'neighbourhood', 'minimum_nights', 'number_of_reviews',\n",
       "       'calculated_host_listings_count', 'availability_365', 'price',\n",
       "       'room_type_Entire home/apt', 'room_type_Hotel room',\n",
       "       'room_type_Private room', 'room_type_Shared room', 'distance'],\n",
       "      dtype='object')"
      ]
     },
     "execution_count": 48,
     "metadata": {},
     "output_type": "execute_result"
    }
   ],
   "source": [
    "data.columns"
   ]
  },
  {
   "cell_type": "code",
   "execution_count": 49,
   "id": "8ef530d1-838a-4ba1-a087-24ce10ea50c1",
   "metadata": {},
   "outputs": [
    {
     "data": {
      "text/plain": [
       "id                                  int64\n",
       "host_id                             int64\n",
       "neighbourhood                        int8\n",
       "minimum_nights                      int64\n",
       "number_of_reviews                   int64\n",
       "calculated_host_listings_count      int64\n",
       "availability_365                    int64\n",
       "price                               int64\n",
       "room_type_Entire home/apt            bool\n",
       "room_type_Hotel room                 bool\n",
       "room_type_Private room               bool\n",
       "room_type_Shared room                bool\n",
       "distance                          float64\n",
       "dtype: object"
      ]
     },
     "execution_count": 49,
     "metadata": {},
     "output_type": "execute_result"
    }
   ],
   "source": [
    "data.dtypes"
   ]
  },
  {
   "cell_type": "code",
   "execution_count": 50,
   "id": "10f25bab-f6c1-4d29-87e1-b1805b75a918",
   "metadata": {},
   "outputs": [
    {
     "name": "stdout",
     "output_type": "stream",
     "text": [
      "<class 'pandas.core.frame.DataFrame'>\n",
      "RangeIndex: 12901 entries, 0 to 12900\n",
      "Data columns (total 13 columns):\n",
      " #   Column                          Non-Null Count  Dtype  \n",
      "---  ------                          --------------  -----  \n",
      " 0   id                              12901 non-null  int64  \n",
      " 1   host_id                         12901 non-null  int64  \n",
      " 2   neighbourhood                   12901 non-null  int8   \n",
      " 3   minimum_nights                  12901 non-null  int64  \n",
      " 4   number_of_reviews               12901 non-null  int64  \n",
      " 5   calculated_host_listings_count  12901 non-null  int64  \n",
      " 6   availability_365                12901 non-null  int64  \n",
      " 7   price                           12901 non-null  int64  \n",
      " 8   room_type_Entire home/apt       12901 non-null  bool   \n",
      " 9   room_type_Hotel room            12901 non-null  bool   \n",
      " 10  room_type_Private room          12901 non-null  bool   \n",
      " 11  room_type_Shared room           12901 non-null  bool   \n",
      " 12  distance                        12901 non-null  float64\n",
      "dtypes: bool(4), float64(1), int64(7), int8(1)\n",
      "memory usage: 869.4 KB\n"
     ]
    }
   ],
   "source": [
    "data.info()"
   ]
  },
  {
   "cell_type": "code",
   "execution_count": 51,
   "id": "d8e7f269-2aaa-412b-9f19-66ffe88054c1",
   "metadata": {},
   "outputs": [],
   "source": [
    "X =data.drop(\"price\", axis = 1)\n",
    "y = data[\"price\"]"
   ]
  },
  {
   "cell_type": "code",
   "execution_count": 52,
   "id": "83615ac9-3a5b-41d1-8b43-6394e4887ab7",
   "metadata": {},
   "outputs": [],
   "source": [
    "from sklearn.model_selection import train_test_split\n",
    "X_train, X_test,y_train, y_test = train_test_split(X,y , test_size= 0.20, random_state= 5)"
   ]
  },
  {
   "cell_type": "code",
   "execution_count": 54,
   "id": "fe536665-5fd4-4f2d-961d-66f31d74d744",
   "metadata": {},
   "outputs": [],
   "source": [
    "from sklearn.linear_model import LinearRegression"
   ]
  },
  {
   "cell_type": "code",
   "execution_count": 56,
   "id": "7a6ecb05-86e4-4766-94fe-64c4436e3bd9",
   "metadata": {},
   "outputs": [
    {
     "data": {
      "text/html": [
       "<style>#sk-container-id-5 {color: black;}#sk-container-id-5 pre{padding: 0;}#sk-container-id-5 div.sk-toggleable {background-color: white;}#sk-container-id-5 label.sk-toggleable__label {cursor: pointer;display: block;width: 100%;margin-bottom: 0;padding: 0.3em;box-sizing: border-box;text-align: center;}#sk-container-id-5 label.sk-toggleable__label-arrow:before {content: \"▸\";float: left;margin-right: 0.25em;color: #696969;}#sk-container-id-5 label.sk-toggleable__label-arrow:hover:before {color: black;}#sk-container-id-5 div.sk-estimator:hover label.sk-toggleable__label-arrow:before {color: black;}#sk-container-id-5 div.sk-toggleable__content {max-height: 0;max-width: 0;overflow: hidden;text-align: left;background-color: #f0f8ff;}#sk-container-id-5 div.sk-toggleable__content pre {margin: 0.2em;color: black;border-radius: 0.25em;background-color: #f0f8ff;}#sk-container-id-5 input.sk-toggleable__control:checked~div.sk-toggleable__content {max-height: 200px;max-width: 100%;overflow: auto;}#sk-container-id-5 input.sk-toggleable__control:checked~label.sk-toggleable__label-arrow:before {content: \"▾\";}#sk-container-id-5 div.sk-estimator input.sk-toggleable__control:checked~label.sk-toggleable__label {background-color: #d4ebff;}#sk-container-id-5 div.sk-label input.sk-toggleable__control:checked~label.sk-toggleable__label {background-color: #d4ebff;}#sk-container-id-5 input.sk-hidden--visually {border: 0;clip: rect(1px 1px 1px 1px);clip: rect(1px, 1px, 1px, 1px);height: 1px;margin: -1px;overflow: hidden;padding: 0;position: absolute;width: 1px;}#sk-container-id-5 div.sk-estimator {font-family: monospace;background-color: #f0f8ff;border: 1px dotted black;border-radius: 0.25em;box-sizing: border-box;margin-bottom: 0.5em;}#sk-container-id-5 div.sk-estimator:hover {background-color: #d4ebff;}#sk-container-id-5 div.sk-parallel-item::after {content: \"\";width: 100%;border-bottom: 1px solid gray;flex-grow: 1;}#sk-container-id-5 div.sk-label:hover label.sk-toggleable__label {background-color: #d4ebff;}#sk-container-id-5 div.sk-serial::before {content: \"\";position: absolute;border-left: 1px solid gray;box-sizing: border-box;top: 0;bottom: 0;left: 50%;z-index: 0;}#sk-container-id-5 div.sk-serial {display: flex;flex-direction: column;align-items: center;background-color: white;padding-right: 0.2em;padding-left: 0.2em;position: relative;}#sk-container-id-5 div.sk-item {position: relative;z-index: 1;}#sk-container-id-5 div.sk-parallel {display: flex;align-items: stretch;justify-content: center;background-color: white;position: relative;}#sk-container-id-5 div.sk-item::before, #sk-container-id-5 div.sk-parallel-item::before {content: \"\";position: absolute;border-left: 1px solid gray;box-sizing: border-box;top: 0;bottom: 0;left: 50%;z-index: -1;}#sk-container-id-5 div.sk-parallel-item {display: flex;flex-direction: column;z-index: 1;position: relative;background-color: white;}#sk-container-id-5 div.sk-parallel-item:first-child::after {align-self: flex-end;width: 50%;}#sk-container-id-5 div.sk-parallel-item:last-child::after {align-self: flex-start;width: 50%;}#sk-container-id-5 div.sk-parallel-item:only-child::after {width: 0;}#sk-container-id-5 div.sk-dashed-wrapped {border: 1px dashed gray;margin: 0 0.4em 0.5em 0.4em;box-sizing: border-box;padding-bottom: 0.4em;background-color: white;}#sk-container-id-5 div.sk-label label {font-family: monospace;font-weight: bold;display: inline-block;line-height: 1.2em;}#sk-container-id-5 div.sk-label-container {text-align: center;}#sk-container-id-5 div.sk-container {/* jupyter's `normalize.less` sets `[hidden] { display: none; }` but bootstrap.min.css set `[hidden] { display: none !important; }` so we also need the `!important` here to be able to override the default hidden behavior on the sphinx rendered scikit-learn.org. See: https://github.com/scikit-learn/scikit-learn/issues/21755 */display: inline-block !important;position: relative;}#sk-container-id-5 div.sk-text-repr-fallback {display: none;}</style><div id=\"sk-container-id-5\" class=\"sk-top-container\"><div class=\"sk-text-repr-fallback\"><pre>LinearRegression()</pre><b>In a Jupyter environment, please rerun this cell to show the HTML representation or trust the notebook. <br />On GitHub, the HTML representation is unable to render, please try loading this page with nbviewer.org.</b></div><div class=\"sk-container\" hidden><div class=\"sk-item\"><div class=\"sk-estimator sk-toggleable\"><input class=\"sk-toggleable__control sk-hidden--visually\" id=\"sk-estimator-id-5\" type=\"checkbox\" checked><label for=\"sk-estimator-id-5\" class=\"sk-toggleable__label sk-toggleable__label-arrow\">LinearRegression</label><div class=\"sk-toggleable__content\"><pre>LinearRegression()</pre></div></div></div></div></div>"
      ],
      "text/plain": [
       "LinearRegression()"
      ]
     },
     "execution_count": 56,
     "metadata": {},
     "output_type": "execute_result"
    }
   ],
   "source": [
    "model = LinearRegression()\n",
    "model.fit(X_train,y_train)"
   ]
  },
  {
   "cell_type": "code",
   "execution_count": 58,
   "id": "1d7584ae-6afa-4ba5-a5de-127b042473b8",
   "metadata": {},
   "outputs": [],
   "source": [
    "from sklearn.metrics import mean_absolute_error\n",
    "from sklearn.metrics import mean_squared_error\n",
    "from sklearn.metrics import r2_score"
   ]
  },
  {
   "cell_type": "code",
   "execution_count": 59,
   "id": "500b45d8-1d71-4e9d-90e6-c8b81f02cdae",
   "metadata": {},
   "outputs": [
    {
     "name": "stdout",
     "output_type": "stream",
     "text": [
      "Training RMSE  : 243.91608662977782\n",
      "Training R2 :  0.04241178264266532\n",
      "Testing RMSE  : 159.69423970821074\n",
      "Testing R2 :  0.05930089628687829\n"
     ]
    }
   ],
   "source": [
    "\n",
    "y_train_predict = model.predict(X_train)\n",
    "train_rmse = (np.sqrt(mean_squared_error(y_train,y_train_predict)))\n",
    "train_r2 = r2_score(y_train,y_train_predict)\n",
    "\n",
    "print('Training RMSE  :', train_rmse)\n",
    "print('Training R2 : ', train_r2)\n",
    "\n",
    "y_test_predict = model.predict(X_test)\n",
    "test_rmse = (np.sqrt(mean_squared_error(y_test,y_test_predict)))\n",
    "test_r2 = r2_score(y_test,y_test_predict)\n",
    "\n",
    "print('Testing RMSE  :', test_rmse)\n",
    "print('Testing R2 : ', test_r2)"
   ]
  },
  {
   "cell_type": "code",
   "execution_count": 25,
   "id": "71663323-94ec-40d9-afa2-80236fcf03be",
   "metadata": {},
   "outputs": [
    {
     "data": {
      "text/plain": [
       "((10320, 12), (2581, 12))"
      ]
     },
     "execution_count": 25,
     "metadata": {},
     "output_type": "execute_result"
    }
   ],
   "source": [
    "X_train.shape, X_test.shape"
   ]
  },
  {
   "cell_type": "code",
   "execution_count": 60,
   "id": "a5628889-fce7-45cf-b476-f29aecb53134",
   "metadata": {},
   "outputs": [
    {
     "data": {
      "text/html": [
       "<style>#sk-container-id-6 {color: black;}#sk-container-id-6 pre{padding: 0;}#sk-container-id-6 div.sk-toggleable {background-color: white;}#sk-container-id-6 label.sk-toggleable__label {cursor: pointer;display: block;width: 100%;margin-bottom: 0;padding: 0.3em;box-sizing: border-box;text-align: center;}#sk-container-id-6 label.sk-toggleable__label-arrow:before {content: \"▸\";float: left;margin-right: 0.25em;color: #696969;}#sk-container-id-6 label.sk-toggleable__label-arrow:hover:before {color: black;}#sk-container-id-6 div.sk-estimator:hover label.sk-toggleable__label-arrow:before {color: black;}#sk-container-id-6 div.sk-toggleable__content {max-height: 0;max-width: 0;overflow: hidden;text-align: left;background-color: #f0f8ff;}#sk-container-id-6 div.sk-toggleable__content pre {margin: 0.2em;color: black;border-radius: 0.25em;background-color: #f0f8ff;}#sk-container-id-6 input.sk-toggleable__control:checked~div.sk-toggleable__content {max-height: 200px;max-width: 100%;overflow: auto;}#sk-container-id-6 input.sk-toggleable__control:checked~label.sk-toggleable__label-arrow:before {content: \"▾\";}#sk-container-id-6 div.sk-estimator input.sk-toggleable__control:checked~label.sk-toggleable__label {background-color: #d4ebff;}#sk-container-id-6 div.sk-label input.sk-toggleable__control:checked~label.sk-toggleable__label {background-color: #d4ebff;}#sk-container-id-6 input.sk-hidden--visually {border: 0;clip: rect(1px 1px 1px 1px);clip: rect(1px, 1px, 1px, 1px);height: 1px;margin: -1px;overflow: hidden;padding: 0;position: absolute;width: 1px;}#sk-container-id-6 div.sk-estimator {font-family: monospace;background-color: #f0f8ff;border: 1px dotted black;border-radius: 0.25em;box-sizing: border-box;margin-bottom: 0.5em;}#sk-container-id-6 div.sk-estimator:hover {background-color: #d4ebff;}#sk-container-id-6 div.sk-parallel-item::after {content: \"\";width: 100%;border-bottom: 1px solid gray;flex-grow: 1;}#sk-container-id-6 div.sk-label:hover label.sk-toggleable__label {background-color: #d4ebff;}#sk-container-id-6 div.sk-serial::before {content: \"\";position: absolute;border-left: 1px solid gray;box-sizing: border-box;top: 0;bottom: 0;left: 50%;z-index: 0;}#sk-container-id-6 div.sk-serial {display: flex;flex-direction: column;align-items: center;background-color: white;padding-right: 0.2em;padding-left: 0.2em;position: relative;}#sk-container-id-6 div.sk-item {position: relative;z-index: 1;}#sk-container-id-6 div.sk-parallel {display: flex;align-items: stretch;justify-content: center;background-color: white;position: relative;}#sk-container-id-6 div.sk-item::before, #sk-container-id-6 div.sk-parallel-item::before {content: \"\";position: absolute;border-left: 1px solid gray;box-sizing: border-box;top: 0;bottom: 0;left: 50%;z-index: -1;}#sk-container-id-6 div.sk-parallel-item {display: flex;flex-direction: column;z-index: 1;position: relative;background-color: white;}#sk-container-id-6 div.sk-parallel-item:first-child::after {align-self: flex-end;width: 50%;}#sk-container-id-6 div.sk-parallel-item:last-child::after {align-self: flex-start;width: 50%;}#sk-container-id-6 div.sk-parallel-item:only-child::after {width: 0;}#sk-container-id-6 div.sk-dashed-wrapped {border: 1px dashed gray;margin: 0 0.4em 0.5em 0.4em;box-sizing: border-box;padding-bottom: 0.4em;background-color: white;}#sk-container-id-6 div.sk-label label {font-family: monospace;font-weight: bold;display: inline-block;line-height: 1.2em;}#sk-container-id-6 div.sk-label-container {text-align: center;}#sk-container-id-6 div.sk-container {/* jupyter's `normalize.less` sets `[hidden] { display: none; }` but bootstrap.min.css set `[hidden] { display: none !important; }` so we also need the `!important` here to be able to override the default hidden behavior on the sphinx rendered scikit-learn.org. See: https://github.com/scikit-learn/scikit-learn/issues/21755 */display: inline-block !important;position: relative;}#sk-container-id-6 div.sk-text-repr-fallback {display: none;}</style><div id=\"sk-container-id-6\" class=\"sk-top-container\"><div class=\"sk-text-repr-fallback\"><pre>LogisticRegression()</pre><b>In a Jupyter environment, please rerun this cell to show the HTML representation or trust the notebook. <br />On GitHub, the HTML representation is unable to render, please try loading this page with nbviewer.org.</b></div><div class=\"sk-container\" hidden><div class=\"sk-item\"><div class=\"sk-estimator sk-toggleable\"><input class=\"sk-toggleable__control sk-hidden--visually\" id=\"sk-estimator-id-6\" type=\"checkbox\" checked><label for=\"sk-estimator-id-6\" class=\"sk-toggleable__label sk-toggleable__label-arrow\">LogisticRegression</label><div class=\"sk-toggleable__content\"><pre>LogisticRegression()</pre></div></div></div></div></div>"
      ],
      "text/plain": [
       "LogisticRegression()"
      ]
     },
     "execution_count": 60,
     "metadata": {},
     "output_type": "execute_result"
    }
   ],
   "source": [
    "from sklearn.linear_model import LogisticRegression\n",
    "lr = LogisticRegression()\n",
    "lr"
   ]
  },
  {
   "cell_type": "code",
   "execution_count": 62,
   "id": "85c19f64-0576-47a7-a0b4-989a48c1c4be",
   "metadata": {},
   "outputs": [
    {
     "data": {
      "text/html": [
       "<style>#sk-container-id-8 {color: black;}#sk-container-id-8 pre{padding: 0;}#sk-container-id-8 div.sk-toggleable {background-color: white;}#sk-container-id-8 label.sk-toggleable__label {cursor: pointer;display: block;width: 100%;margin-bottom: 0;padding: 0.3em;box-sizing: border-box;text-align: center;}#sk-container-id-8 label.sk-toggleable__label-arrow:before {content: \"▸\";float: left;margin-right: 0.25em;color: #696969;}#sk-container-id-8 label.sk-toggleable__label-arrow:hover:before {color: black;}#sk-container-id-8 div.sk-estimator:hover label.sk-toggleable__label-arrow:before {color: black;}#sk-container-id-8 div.sk-toggleable__content {max-height: 0;max-width: 0;overflow: hidden;text-align: left;background-color: #f0f8ff;}#sk-container-id-8 div.sk-toggleable__content pre {margin: 0.2em;color: black;border-radius: 0.25em;background-color: #f0f8ff;}#sk-container-id-8 input.sk-toggleable__control:checked~div.sk-toggleable__content {max-height: 200px;max-width: 100%;overflow: auto;}#sk-container-id-8 input.sk-toggleable__control:checked~label.sk-toggleable__label-arrow:before {content: \"▾\";}#sk-container-id-8 div.sk-estimator input.sk-toggleable__control:checked~label.sk-toggleable__label {background-color: #d4ebff;}#sk-container-id-8 div.sk-label input.sk-toggleable__control:checked~label.sk-toggleable__label {background-color: #d4ebff;}#sk-container-id-8 input.sk-hidden--visually {border: 0;clip: rect(1px 1px 1px 1px);clip: rect(1px, 1px, 1px, 1px);height: 1px;margin: -1px;overflow: hidden;padding: 0;position: absolute;width: 1px;}#sk-container-id-8 div.sk-estimator {font-family: monospace;background-color: #f0f8ff;border: 1px dotted black;border-radius: 0.25em;box-sizing: border-box;margin-bottom: 0.5em;}#sk-container-id-8 div.sk-estimator:hover {background-color: #d4ebff;}#sk-container-id-8 div.sk-parallel-item::after {content: \"\";width: 100%;border-bottom: 1px solid gray;flex-grow: 1;}#sk-container-id-8 div.sk-label:hover label.sk-toggleable__label {background-color: #d4ebff;}#sk-container-id-8 div.sk-serial::before {content: \"\";position: absolute;border-left: 1px solid gray;box-sizing: border-box;top: 0;bottom: 0;left: 50%;z-index: 0;}#sk-container-id-8 div.sk-serial {display: flex;flex-direction: column;align-items: center;background-color: white;padding-right: 0.2em;padding-left: 0.2em;position: relative;}#sk-container-id-8 div.sk-item {position: relative;z-index: 1;}#sk-container-id-8 div.sk-parallel {display: flex;align-items: stretch;justify-content: center;background-color: white;position: relative;}#sk-container-id-8 div.sk-item::before, #sk-container-id-8 div.sk-parallel-item::before {content: \"\";position: absolute;border-left: 1px solid gray;box-sizing: border-box;top: 0;bottom: 0;left: 50%;z-index: -1;}#sk-container-id-8 div.sk-parallel-item {display: flex;flex-direction: column;z-index: 1;position: relative;background-color: white;}#sk-container-id-8 div.sk-parallel-item:first-child::after {align-self: flex-end;width: 50%;}#sk-container-id-8 div.sk-parallel-item:last-child::after {align-self: flex-start;width: 50%;}#sk-container-id-8 div.sk-parallel-item:only-child::after {width: 0;}#sk-container-id-8 div.sk-dashed-wrapped {border: 1px dashed gray;margin: 0 0.4em 0.5em 0.4em;box-sizing: border-box;padding-bottom: 0.4em;background-color: white;}#sk-container-id-8 div.sk-label label {font-family: monospace;font-weight: bold;display: inline-block;line-height: 1.2em;}#sk-container-id-8 div.sk-label-container {text-align: center;}#sk-container-id-8 div.sk-container {/* jupyter's `normalize.less` sets `[hidden] { display: none; }` but bootstrap.min.css set `[hidden] { display: none !important; }` so we also need the `!important` here to be able to override the default hidden behavior on the sphinx rendered scikit-learn.org. See: https://github.com/scikit-learn/scikit-learn/issues/21755 */display: inline-block !important;position: relative;}#sk-container-id-8 div.sk-text-repr-fallback {display: none;}</style><div id=\"sk-container-id-8\" class=\"sk-top-container\"><div class=\"sk-text-repr-fallback\"><pre>LogisticRegression()</pre><b>In a Jupyter environment, please rerun this cell to show the HTML representation or trust the notebook. <br />On GitHub, the HTML representation is unable to render, please try loading this page with nbviewer.org.</b></div><div class=\"sk-container\" hidden><div class=\"sk-item\"><div class=\"sk-estimator sk-toggleable\"><input class=\"sk-toggleable__control sk-hidden--visually\" id=\"sk-estimator-id-8\" type=\"checkbox\" checked><label for=\"sk-estimator-id-8\" class=\"sk-toggleable__label sk-toggleable__label-arrow\">LogisticRegression</label><div class=\"sk-toggleable__content\"><pre>LogisticRegression()</pre></div></div></div></div></div>"
      ],
      "text/plain": [
       "LogisticRegression()"
      ]
     },
     "execution_count": 62,
     "metadata": {},
     "output_type": "execute_result"
    }
   ],
   "source": [
    "lr.fit(X_train, y_train)"
   ]
  },
  {
   "cell_type": "code",
   "execution_count": 63,
   "id": "0f990978-eb5a-44b8-901c-02ac0a2e525b",
   "metadata": {},
   "outputs": [
    {
     "data": {
      "text/plain": [
       "array([150, 150, 150, ..., 150, 150, 200], dtype=int64)"
      ]
     },
     "execution_count": 63,
     "metadata": {},
     "output_type": "execute_result"
    }
   ],
   "source": [
    "y_pred = lr.predict(X_test)\n",
    "y_pred"
   ]
  },
  {
   "cell_type": "code",
   "execution_count": 64,
   "id": "730328e9-1cc6-4500-bd6a-f103b5ad8cdf",
   "metadata": {},
   "outputs": [
    {
     "data": {
      "text/html": [
       "<div>\n",
       "<style scoped>\n",
       "    .dataframe tbody tr th:only-of-type {\n",
       "        vertical-align: middle;\n",
       "    }\n",
       "\n",
       "    .dataframe tbody tr th {\n",
       "        vertical-align: top;\n",
       "    }\n",
       "\n",
       "    .dataframe thead th {\n",
       "        text-align: right;\n",
       "    }\n",
       "</style>\n",
       "<table border=\"1\" class=\"dataframe\">\n",
       "  <thead>\n",
       "    <tr style=\"text-align: right;\">\n",
       "      <th></th>\n",
       "      <th>id</th>\n",
       "      <th>host_id</th>\n",
       "      <th>neighbourhood</th>\n",
       "      <th>minimum_nights</th>\n",
       "      <th>number_of_reviews</th>\n",
       "      <th>calculated_host_listings_count</th>\n",
       "      <th>availability_365</th>\n",
       "      <th>room_type_Entire home/apt</th>\n",
       "      <th>room_type_Hotel room</th>\n",
       "      <th>room_type_Private room</th>\n",
       "      <th>room_type_Shared room</th>\n",
       "      <th>distance</th>\n",
       "    </tr>\n",
       "  </thead>\n",
       "  <tbody>\n",
       "    <tr>\n",
       "      <th>9931</th>\n",
       "      <td>39108383</td>\n",
       "      <td>165673679</td>\n",
       "      <td>10</td>\n",
       "      <td>2</td>\n",
       "      <td>3</td>\n",
       "      <td>1</td>\n",
       "      <td>0</td>\n",
       "      <td>False</td>\n",
       "      <td>False</td>\n",
       "      <td>True</td>\n",
       "      <td>False</td>\n",
       "      <td>5.840951e+06</td>\n",
       "    </tr>\n",
       "    <tr>\n",
       "      <th>12201</th>\n",
       "      <td>8893580</td>\n",
       "      <td>46528989</td>\n",
       "      <td>20</td>\n",
       "      <td>2</td>\n",
       "      <td>26</td>\n",
       "      <td>1</td>\n",
       "      <td>0</td>\n",
       "      <td>True</td>\n",
       "      <td>False</td>\n",
       "      <td>False</td>\n",
       "      <td>False</td>\n",
       "      <td>5.843413e+06</td>\n",
       "    </tr>\n",
       "    <tr>\n",
       "      <th>11648</th>\n",
       "      <td>11618221</td>\n",
       "      <td>60019409</td>\n",
       "      <td>4</td>\n",
       "      <td>5</td>\n",
       "      <td>4</td>\n",
       "      <td>1</td>\n",
       "      <td>0</td>\n",
       "      <td>False</td>\n",
       "      <td>False</td>\n",
       "      <td>True</td>\n",
       "      <td>False</td>\n",
       "      <td>5.840017e+06</td>\n",
       "    </tr>\n",
       "    <tr>\n",
       "      <th>12265</th>\n",
       "      <td>32280529</td>\n",
       "      <td>242268894</td>\n",
       "      <td>15</td>\n",
       "      <td>3</td>\n",
       "      <td>2</td>\n",
       "      <td>1</td>\n",
       "      <td>0</td>\n",
       "      <td>False</td>\n",
       "      <td>False</td>\n",
       "      <td>True</td>\n",
       "      <td>False</td>\n",
       "      <td>5.839066e+06</td>\n",
       "    </tr>\n",
       "    <tr>\n",
       "      <th>4854</th>\n",
       "      <td>2147106</td>\n",
       "      <td>9558831</td>\n",
       "      <td>17</td>\n",
       "      <td>4</td>\n",
       "      <td>2</td>\n",
       "      <td>1</td>\n",
       "      <td>0</td>\n",
       "      <td>True</td>\n",
       "      <td>False</td>\n",
       "      <td>False</td>\n",
       "      <td>False</td>\n",
       "      <td>5.839838e+06</td>\n",
       "    </tr>\n",
       "    <tr>\n",
       "      <th>...</th>\n",
       "      <td>...</td>\n",
       "      <td>...</td>\n",
       "      <td>...</td>\n",
       "      <td>...</td>\n",
       "      <td>...</td>\n",
       "      <td>...</td>\n",
       "      <td>...</td>\n",
       "      <td>...</td>\n",
       "      <td>...</td>\n",
       "      <td>...</td>\n",
       "      <td>...</td>\n",
       "      <td>...</td>\n",
       "    </tr>\n",
       "    <tr>\n",
       "      <th>8190</th>\n",
       "      <td>18285386</td>\n",
       "      <td>65859990</td>\n",
       "      <td>7</td>\n",
       "      <td>2</td>\n",
       "      <td>17</td>\n",
       "      <td>34</td>\n",
       "      <td>0</td>\n",
       "      <td>True</td>\n",
       "      <td>False</td>\n",
       "      <td>False</td>\n",
       "      <td>False</td>\n",
       "      <td>5.839673e+06</td>\n",
       "    </tr>\n",
       "    <tr>\n",
       "      <th>1333</th>\n",
       "      <td>15596186</td>\n",
       "      <td>77653945</td>\n",
       "      <td>20</td>\n",
       "      <td>2</td>\n",
       "      <td>11</td>\n",
       "      <td>1</td>\n",
       "      <td>0</td>\n",
       "      <td>True</td>\n",
       "      <td>False</td>\n",
       "      <td>False</td>\n",
       "      <td>False</td>\n",
       "      <td>5.841389e+06</td>\n",
       "    </tr>\n",
       "    <tr>\n",
       "      <th>6620</th>\n",
       "      <td>38845107</td>\n",
       "      <td>114955569</td>\n",
       "      <td>8</td>\n",
       "      <td>2</td>\n",
       "      <td>14</td>\n",
       "      <td>1</td>\n",
       "      <td>0</td>\n",
       "      <td>True</td>\n",
       "      <td>False</td>\n",
       "      <td>False</td>\n",
       "      <td>False</td>\n",
       "      <td>5.838977e+06</td>\n",
       "    </tr>\n",
       "    <tr>\n",
       "      <th>2885</th>\n",
       "      <td>818881</td>\n",
       "      <td>4297337</td>\n",
       "      <td>4</td>\n",
       "      <td>3</td>\n",
       "      <td>9</td>\n",
       "      <td>1</td>\n",
       "      <td>314</td>\n",
       "      <td>True</td>\n",
       "      <td>False</td>\n",
       "      <td>False</td>\n",
       "      <td>False</td>\n",
       "      <td>5.840299e+06</td>\n",
       "    </tr>\n",
       "    <tr>\n",
       "      <th>8890</th>\n",
       "      <td>43699862</td>\n",
       "      <td>220595</td>\n",
       "      <td>5</td>\n",
       "      <td>3</td>\n",
       "      <td>0</td>\n",
       "      <td>1</td>\n",
       "      <td>11</td>\n",
       "      <td>True</td>\n",
       "      <td>False</td>\n",
       "      <td>False</td>\n",
       "      <td>False</td>\n",
       "      <td>5.842393e+06</td>\n",
       "    </tr>\n",
       "  </tbody>\n",
       "</table>\n",
       "<p>2581 rows × 12 columns</p>\n",
       "</div>"
      ],
      "text/plain": [
       "             id    host_id  neighbourhood  minimum_nights  number_of_reviews  \\\n",
       "9931   39108383  165673679             10               2                  3   \n",
       "12201   8893580   46528989             20               2                 26   \n",
       "11648  11618221   60019409              4               5                  4   \n",
       "12265  32280529  242268894             15               3                  2   \n",
       "4854    2147106    9558831             17               4                  2   \n",
       "...         ...        ...            ...             ...                ...   \n",
       "8190   18285386   65859990              7               2                 17   \n",
       "1333   15596186   77653945             20               2                 11   \n",
       "6620   38845107  114955569              8               2                 14   \n",
       "2885     818881    4297337              4               3                  9   \n",
       "8890   43699862     220595              5               3                  0   \n",
       "\n",
       "       calculated_host_listings_count  availability_365  \\\n",
       "9931                                1                 0   \n",
       "12201                               1                 0   \n",
       "11648                               1                 0   \n",
       "12265                               1                 0   \n",
       "4854                                1                 0   \n",
       "...                               ...               ...   \n",
       "8190                               34                 0   \n",
       "1333                                1                 0   \n",
       "6620                                1                 0   \n",
       "2885                                1               314   \n",
       "8890                                1                11   \n",
       "\n",
       "       room_type_Entire home/apt  room_type_Hotel room  \\\n",
       "9931                       False                 False   \n",
       "12201                       True                 False   \n",
       "11648                      False                 False   \n",
       "12265                      False                 False   \n",
       "4854                        True                 False   \n",
       "...                          ...                   ...   \n",
       "8190                        True                 False   \n",
       "1333                        True                 False   \n",
       "6620                        True                 False   \n",
       "2885                        True                 False   \n",
       "8890                        True                 False   \n",
       "\n",
       "       room_type_Private room  room_type_Shared room      distance  \n",
       "9931                     True                  False  5.840951e+06  \n",
       "12201                   False                  False  5.843413e+06  \n",
       "11648                    True                  False  5.840017e+06  \n",
       "12265                    True                  False  5.839066e+06  \n",
       "4854                    False                  False  5.839838e+06  \n",
       "...                       ...                    ...           ...  \n",
       "8190                    False                  False  5.839673e+06  \n",
       "1333                    False                  False  5.841389e+06  \n",
       "6620                    False                  False  5.838977e+06  \n",
       "2885                    False                  False  5.840299e+06  \n",
       "8890                    False                  False  5.842393e+06  \n",
       "\n",
       "[2581 rows x 12 columns]"
      ]
     },
     "execution_count": 64,
     "metadata": {},
     "output_type": "execute_result"
    }
   ],
   "source": [
    "X_test"
   ]
  },
  {
   "cell_type": "code",
   "execution_count": 66,
   "id": "1bf8f54b-c474-4dae-b7e1-3f0c0422e59e",
   "metadata": {},
   "outputs": [
    {
     "data": {
      "text/plain": [
       "0.06741573033707865"
      ]
     },
     "execution_count": 66,
     "metadata": {},
     "output_type": "execute_result"
    }
   ],
   "source": [
    "from sklearn.metrics import accuracy_score\n",
    "accuracy_score(y_test, y_pred)"
   ]
  },
  {
   "cell_type": "code",
   "execution_count": 67,
   "id": "231611d7-bc89-49f2-9ebd-d0d7be82622f",
   "metadata": {},
   "outputs": [
    {
     "data": {
      "text/plain": [
       "array([[0, 0, 0, ..., 0, 0, 0],\n",
       "       [0, 0, 0, ..., 0, 0, 0],\n",
       "       [0, 0, 0, ..., 0, 0, 0],\n",
       "       ...,\n",
       "       [0, 0, 0, ..., 0, 0, 0],\n",
       "       [0, 0, 0, ..., 0, 0, 0],\n",
       "       [0, 0, 0, ..., 0, 0, 0]], dtype=int64)"
      ]
     },
     "execution_count": 67,
     "metadata": {},
     "output_type": "execute_result"
    }
   ],
   "source": [
    "from sklearn.metrics import confusion_matrix\n",
    "confusion_matrix(y_test, y_pred)"
   ]
  },
  {
   "cell_type": "code",
   "execution_count": null,
   "id": "32603a32-9b8b-41b0-b3bf-b0ed855ea00c",
   "metadata": {},
   "outputs": [],
   "source": []
  }
 ],
 "metadata": {
  "kernelspec": {
   "display_name": "Python 3 (ipykernel)",
   "language": "python",
   "name": "python3"
  },
  "language_info": {
   "codemirror_mode": {
    "name": "ipython",
    "version": 3
   },
   "file_extension": ".py",
   "mimetype": "text/x-python",
   "name": "python",
   "nbconvert_exporter": "python",
   "pygments_lexer": "ipython3",
   "version": "3.11.5"
  }
 },
 "nbformat": 4,
 "nbformat_minor": 5
}
